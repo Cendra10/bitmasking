{
  "nbformat": 4,
  "nbformat_minor": 0,
  "metadata": {
    "colab": {
      "provenance": []
    },
    "kernelspec": {
      "name": "python3",
      "display_name": "Python 3"
    },
    "language_info": {
      "name": "python"
    }
  },
  "cells": [
    {
      "cell_type": "code",
      "execution_count": null,
      "metadata": {
        "colab": {
          "base_uri": "https://localhost:8080/"
        },
        "id": "SfurX8o9iT5_",
        "outputId": "ef07da49-21c0-43a6-8321-23fab3286c84"
      },
      "outputs": [
        {
          "output_type": "stream",
          "name": "stdout",
          "text": [
            "Kamera aktif: True\n",
            "Mikrofon aktif: False\n",
            "Sensor aktif: True\n",
            "\n",
            "Mikrofon setelah di modifikasi: 0b111\n",
            "\n",
            "Kamera Setelah di Modifikasi: 0b11\n"
          ]
        }
      ],
      "source": [
        "#Sistem deteksi status perangkat\n",
        "#Bit Mask nya:\n",
        "# Kamera      = bit ke 2  (1 << 2)\n",
        "# Mikrofon    = bit ke 1  (1 << 1)\n",
        "# Sensor Suhu = bit ke 0  (1 << 0)\n",
        "\n",
        "register = 0b101\n",
        "\n",
        "#Mengecek status ketiga bit menggunakan operator AND\n",
        "\n",
        "is_camera = (register & (1 << 2)) !=0\n",
        "is_microfon = (register & (1 << 1)) !=0\n",
        "is_sensor = (register & (1 << 0)) !=0\n",
        "\n",
        "print(\"Kamera aktif:\", is_camera)\n",
        "print(\"Mikrofon aktif:\",is_microfon)\n",
        "print(\"Sensor aktif:\", is_sensor)\n",
        "\n",
        "#Mengaktifkan mikrofon tanpa merubah bit lainya\n",
        "register |= (1 << 1)\n",
        "print(\"\\nMikrofon setelah di modifikasi:\", bin(register))\n",
        "\n",
        "#menonaktifkan kamera tanpa merubah bit lainya\n",
        "register &= ~(1 << 2)\n",
        "print(\"\\nKamera Setelah di Modifikasi:\", bin(register))"
      ]
    },
    {
      "cell_type": "code",
      "source": [
        "#Sistem deteksi status perangkat dengan penambahan sistem monitoring sederhana\n",
        "#Bit Mask\n",
        "# Kamera      = bit ke 2  (1 << 2)\n",
        "# Mikrofon    = bit ke 1  (1 << 1)\n",
        "# Sensor Suhu = bit ke 0  (1 << 0)\n",
        "\n",
        "register = 0b100\n",
        "\n",
        "register_awal = register\n",
        "\n",
        "register &= ~(1 << 2)\n",
        "register |= (1 << 1)\n",
        "#register ^= (1 << 0)  #Mengaktifkan sensor menggunakan toggle\n",
        "\n",
        "\n",
        "perubahan = register_awal ^ register\n",
        "\n",
        "if perubahan & (1 << 2):\n",
        "  print(\"Perubahan yang terdeteksi pada kamera\")\n",
        "if perubahan & (1 << 1):\n",
        "  print(\"Perubahan yang terdeteksi pada mikrofon\")\n",
        "if perubahan & (1 << 0):\n",
        "  print(\"Perubahan yang terdeteksi pada sensor\")\n",
        "\n",
        "#Mengecek status ketiga bit menggunakan operator AND\n",
        "\n",
        "is_camera = (register & (1 << 2)) !=0\n",
        "is_microfon = (register & (1 << 1)) !=0\n",
        "is_sensor = (register & (1 << 0)) !=0\n",
        "\n",
        "print(\"\\nStatus terbaru:\")\n",
        "print(\"Kamera aktif:\", is_camera)\n",
        "print(\"Mikrofon aktif:\",is_microfon)\n",
        "print(\"Sensor aktif:\", is_sensor)\n",
        "\n",
        "print(\"Register terbaru saat ini:\", bin(register))"
      ],
      "metadata": {
        "colab": {
          "base_uri": "https://localhost:8080/"
        },
        "id": "tBvhJtZxv2vB",
        "outputId": "59e9beb9-1aaf-47f3-ef3b-a96831335ccb",
        "collapsed": true
      },
      "execution_count": null,
      "outputs": [
        {
          "output_type": "stream",
          "name": "stdout",
          "text": [
            "Perubahan yang terdeteksi pada kamera\n",
            "Perubahan yang terdeteksi pada mikrofon\n",
            "\n",
            "Status terbaru:\n",
            "Kamera aktif: False\n",
            "Mikrofon aktif: True\n",
            "Sensor aktif: False\n",
            "Register terbaru saat ini: 0b10\n"
          ]
        }
      ]
    }
  ]
}
